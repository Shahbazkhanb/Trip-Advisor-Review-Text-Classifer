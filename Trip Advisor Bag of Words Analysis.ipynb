{
 "cells": [
  {
   "cell_type": "markdown",
   "metadata": {},
   "source": [
    "## Cleaning and Preparing Data"
   ]
  },
  {
   "cell_type": "markdown",
   "metadata": {},
   "source": [
    "### Importing dataset & pandas"
   ]
  },
  {
   "cell_type": "code",
   "execution_count": 121,
   "metadata": {},
   "outputs": [
    {
     "data": {
      "text/html": [
       "<div>\n",
       "<style scoped>\n",
       "    .dataframe tbody tr th:only-of-type {\n",
       "        vertical-align: middle;\n",
       "    }\n",
       "\n",
       "    .dataframe tbody tr th {\n",
       "        vertical-align: top;\n",
       "    }\n",
       "\n",
       "    .dataframe thead th {\n",
       "        text-align: right;\n",
       "    }\n",
       "</style>\n",
       "<table border=\"1\" class=\"dataframe\">\n",
       "  <thead>\n",
       "    <tr style=\"text-align: right;\">\n",
       "      <th></th>\n",
       "      <th>Review</th>\n",
       "      <th>Rating</th>\n",
       "    </tr>\n",
       "  </thead>\n",
       "  <tbody>\n",
       "    <tr>\n",
       "      <th>0</th>\n",
       "      <td>nice hotel expensive parking got good deal sta...</td>\n",
       "      <td>4</td>\n",
       "    </tr>\n",
       "    <tr>\n",
       "      <th>1</th>\n",
       "      <td>ok nothing special charge diamond member hilto...</td>\n",
       "      <td>2</td>\n",
       "    </tr>\n",
       "    <tr>\n",
       "      <th>2</th>\n",
       "      <td>nice rooms not 4* experience hotel monaco seat...</td>\n",
       "      <td>3</td>\n",
       "    </tr>\n",
       "    <tr>\n",
       "      <th>3</th>\n",
       "      <td>unique, great stay, wonderful time hotel monac...</td>\n",
       "      <td>5</td>\n",
       "    </tr>\n",
       "    <tr>\n",
       "      <th>4</th>\n",
       "      <td>great stay great stay, went seahawk game aweso...</td>\n",
       "      <td>5</td>\n",
       "    </tr>\n",
       "  </tbody>\n",
       "</table>\n",
       "</div>"
      ],
      "text/plain": [
       "                                              Review  Rating\n",
       "0  nice hotel expensive parking got good deal sta...       4\n",
       "1  ok nothing special charge diamond member hilto...       2\n",
       "2  nice rooms not 4* experience hotel monaco seat...       3\n",
       "3  unique, great stay, wonderful time hotel monac...       5\n",
       "4  great stay great stay, went seahawk game aweso...       5"
      ]
     },
     "execution_count": 121,
     "metadata": {},
     "output_type": "execute_result"
    }
   ],
   "source": [
    "import pandas as pd\n",
    "\n",
    "# Change to local path to data\n",
    "path = \"C://Users//User//Documents//Python Scripts//Data//tripadvisor_hotel_reviews.csv\"\n",
    "data = pd.read_csv(path)\n",
    "\n",
    "# Dataset has 20,491 reviews\n",
    "data.head()"
   ]
  },
  {
   "cell_type": "markdown",
   "metadata": {},
   "source": [
    "### Cleaning out punctuation & creating a new column to classify reviews as positive or negative"
   ]
  },
  {
   "cell_type": "code",
   "execution_count": 122,
   "metadata": {},
   "outputs": [
    {
     "data": {
      "text/html": [
       "<div>\n",
       "<style scoped>\n",
       "    .dataframe tbody tr th:only-of-type {\n",
       "        vertical-align: middle;\n",
       "    }\n",
       "\n",
       "    .dataframe tbody tr th {\n",
       "        vertical-align: top;\n",
       "    }\n",
       "\n",
       "    .dataframe thead th {\n",
       "        text-align: right;\n",
       "    }\n",
       "</style>\n",
       "<table border=\"1\" class=\"dataframe\">\n",
       "  <thead>\n",
       "    <tr style=\"text-align: right;\">\n",
       "      <th></th>\n",
       "      <th>Review</th>\n",
       "      <th>Rating</th>\n",
       "      <th>Attitude</th>\n",
       "    </tr>\n",
       "  </thead>\n",
       "  <tbody>\n",
       "    <tr>\n",
       "      <th>0</th>\n",
       "      <td>nice hotel expensive parking got good deal sta...</td>\n",
       "      <td>4</td>\n",
       "      <td>Positive</td>\n",
       "    </tr>\n",
       "    <tr>\n",
       "      <th>1</th>\n",
       "      <td>ok nothing special charge diamond member hilto...</td>\n",
       "      <td>2</td>\n",
       "      <td>Negative</td>\n",
       "    </tr>\n",
       "    <tr>\n",
       "      <th>2</th>\n",
       "      <td>nice rooms not 4 experience hotel monaco seatt...</td>\n",
       "      <td>3</td>\n",
       "      <td>Positive</td>\n",
       "    </tr>\n",
       "    <tr>\n",
       "      <th>3</th>\n",
       "      <td>unique great stay wonderful time hotel monaco ...</td>\n",
       "      <td>5</td>\n",
       "      <td>Positive</td>\n",
       "    </tr>\n",
       "    <tr>\n",
       "      <th>4</th>\n",
       "      <td>great stay great stay went seahawk game awesom...</td>\n",
       "      <td>5</td>\n",
       "      <td>Positive</td>\n",
       "    </tr>\n",
       "  </tbody>\n",
       "</table>\n",
       "</div>"
      ],
      "text/plain": [
       "                                              Review  Rating  Attitude\n",
       "0  nice hotel expensive parking got good deal sta...       4  Positive\n",
       "1  ok nothing special charge diamond member hilto...       2  Negative\n",
       "2  nice rooms not 4 experience hotel monaco seatt...       3  Positive\n",
       "3  unique great stay wonderful time hotel monaco ...       5  Positive\n",
       "4  great stay great stay went seahawk game awesom...       5  Positive"
      ]
     },
     "execution_count": 122,
     "metadata": {},
     "output_type": "execute_result"
    }
   ],
   "source": [
    "data[\"Review\"] = data[\"Review\"].str.replace(r\"[^\\w\\s]+\", '')\n",
    "\n",
    "data[\"Attitude\"] = [\"Positive\" if i > 2 else \"Negative\" for i in data[\"Rating\"]]\n",
    "\n",
    "# 84% of comments are rated Positive while the remaining 16% are negative\n",
    "data.head()"
   ]
  },
  {
   "cell_type": "markdown",
   "metadata": {},
   "source": [
    "### Spliting train and test data"
   ]
  },
  {
   "cell_type": "code",
   "execution_count": 123,
   "metadata": {},
   "outputs": [
    {
     "name": "stdout",
     "output_type": "stream",
     "text": [
      "6763 , 13728\n"
     ]
    }
   ],
   "source": [
    "from sklearn.model_selection import train_test_split\n",
    "\n",
    "train, test = train_test_split(data, test_size = .33, random_state = 10, stratify = data[\"Attitude\"], shuffle = True)\n",
    "\n",
    "train = train.iloc[:,[0,2]]\n",
    "print(len(test), \",\", len(train))"
   ]
  },
  {
   "cell_type": "markdown",
   "metadata": {},
   "source": [
    "### Vectorize the review strings"
   ]
  },
  {
   "cell_type": "code",
   "execution_count": 124,
   "metadata": {},
   "outputs": [],
   "source": [
    "from sklearn.feature_extraction.text import CountVectorizer\n",
    "\n",
    "vect = CountVectorizer()\n",
    "trained_vec = vect.fit_transform(train[\"Review\"])\n",
    "\n",
    "test_vecs = vect.transform(test[\"Review\"])"
   ]
  },
  {
   "cell_type": "markdown",
   "metadata": {},
   "source": [
    "# Classifiying"
   ]
  },
  {
   "cell_type": "markdown",
   "metadata": {},
   "source": [
    "### Linear SVM"
   ]
  },
  {
   "cell_type": "code",
   "execution_count": 125,
   "metadata": {},
   "outputs": [
    {
     "name": "stdout",
     "output_type": "stream",
     "text": [
      "['Positive']\n"
     ]
    }
   ],
   "source": [
    "from sklearn import svm\n",
    "\n",
    "svm_ = svm.SVC(kernel = \"linear\")\n",
    "svm_.fit(trained_vec, train[\"Attitude\"])\n",
    "\n",
    "print(svm_.predict(test_vecs[0]))"
   ]
  },
  {
   "cell_type": "markdown",
   "metadata": {},
   "source": [
    "#### Was the classification correct? It correctly guessed that the 4 star review below was indeed positve"
   ]
  },
  {
   "cell_type": "code",
   "execution_count": 126,
   "metadata": {},
   "outputs": [
    {
     "name": "stdout",
     "output_type": "stream",
     "text": [
      "                                                  Review  Rating  Attitude\n",
      "11370  nicer read husband stayed water beach hotel su...       4  Positive\n"
     ]
    }
   ],
   "source": [
    "print(test.head(1))"
   ]
  },
  {
   "cell_type": "markdown",
   "metadata": {},
   "source": [
    "### Logistic Regression"
   ]
  },
  {
   "cell_type": "code",
   "execution_count": 127,
   "metadata": {},
   "outputs": [
    {
     "name": "stdout",
     "output_type": "stream",
     "text": [
      "['Positive']\n"
     ]
    }
   ],
   "source": [
    "from sklearn.linear_model import LogisticRegression\n",
    "\n",
    "log_ = LogisticRegression(solver='lbfgs', max_iter = 2000)\n",
    "log_.fit(trained_vec, train[\"Attitude\"])\n",
    "\n",
    "print(log_.predict(test_vecs[0]))"
   ]
  },
  {
   "cell_type": "markdown",
   "metadata": {},
   "source": [
    "### Multinomial Naive Bayes"
   ]
  },
  {
   "cell_type": "code",
   "execution_count": 136,
   "metadata": {},
   "outputs": [
    {
     "name": "stdout",
     "output_type": "stream",
     "text": [
      "['Positive']\n"
     ]
    }
   ],
   "source": [
    "from sklearn.naive_bayes import MultinomialNB\n",
    "\n",
    "multi_ = MultinomialNB()\n",
    "multi_.fit(trained_vec, train[\"Attitude\"])\n",
    "\n",
    "print(multi_.predict(test_vecs[0]))"
   ]
  },
  {
   "cell_type": "markdown",
   "metadata": {},
   "source": [
    "### Decision Trees"
   ]
  },
  {
   "cell_type": "code",
   "execution_count": 129,
   "metadata": {},
   "outputs": [
    {
     "name": "stdout",
     "output_type": "stream",
     "text": [
      "['Positive']\n"
     ]
    }
   ],
   "source": [
    "from sklearn.tree import DecisionTreeClassifier\n",
    "\n",
    "dec_ = DecisionTreeClassifier()\n",
    "dec_.fit(trained_vec, train[\"Attitude\"])\n",
    "\n",
    "print(dec_.predict(test_vecs[0]))"
   ]
  },
  {
   "cell_type": "markdown",
   "metadata": {},
   "source": [
    "## Scoring Results"
   ]
  },
  {
   "cell_type": "markdown",
   "metadata": {},
   "source": [
    "### Now to Compare Mean Accuracy"
   ]
  },
  {
   "cell_type": "code",
   "execution_count": 130,
   "metadata": {},
   "outputs": [
    {
     "name": "stdout",
     "output_type": "stream",
     "text": [
      "0.9129\n",
      "0.9203\n",
      "0.9196\n",
      "0.8622\n"
     ]
    }
   ],
   "source": [
    "svm_mean_score_1 = round(svm_.score(test_vecs, test[\"Attitude\"]), 4)\n",
    "log_mean_score_1 = round(log_.score(test_vecs, test[\"Attitude\"]), 4)\n",
    "multi_mean_score_1 = round(multi_.score(test_vecs, test[\"Attitude\"]), 4)\n",
    "dec_mean_score_1 = round(dec_.score(test_vecs, test[\"Attitude\"]), 4)\n",
    "\n",
    "\n",
    "print(svm_mean_score_1)\n",
    "print(log_mean_score_1)\n",
    "print(multi_mean_score_1)\n",
    "print(dec_mean_score_1)"
   ]
  },
  {
   "cell_type": "markdown",
   "metadata": {},
   "source": [
    "### F1 Score Comparison"
   ]
  },
  {
   "cell_type": "code",
   "execution_count": 131,
   "metadata": {},
   "outputs": [
    {
     "name": "stdout",
     "output_type": "stream",
     "text": [
      "[0.9485 0.7172]\n",
      "[0.9532 0.7328]\n",
      "[0.9537 0.6937]\n",
      "[0.9191 0.5345]\n"
     ]
    }
   ],
   "source": [
    "from sklearn.metrics import f1_score\n",
    "from numpy import around as around\n",
    "\n",
    "\n",
    "f1_svm_1 = around(f1_score(test[\"Attitude\"], svm_.predict(test_vecs), average = None, \n",
    "                           labels = [\"Positive\", \"Negative\"]), 4)\n",
    "f1_log_1 = around(f1_score(test[\"Attitude\"], log_.predict(test_vecs), average = None, \n",
    "                           labels = [\"Positive\", \"Negative\"]), 4)\n",
    "f1_multi_1 = around(f1_score(test[\"Attitude\"], multi_.predict(test_vecs), average = None, \n",
    "                             labels = [\"Positive\", \"Negative\"]), 4)\n",
    "f1_dec_1 = around(f1_score(test[\"Attitude\"], dec_.predict(test_vecs), average = None, \n",
    "                           labels = [\"Positive\", \"Negative\"]), 4)\n",
    "\n",
    "\n",
    "print(f1_svm_1)\n",
    "print(f1_log_1)\n",
    "print(f1_multi_1)\n",
    "print(f1_dec_1)"
   ]
  },
  {
   "cell_type": "markdown",
   "metadata": {},
   "source": [
    "### It seems that Multinomial Naive Bayes SVM and Logistic Regression  has the highest mean and F1 scores! Lets see how these models performs on some test data we create."
   ]
  },
  {
   "cell_type": "code",
   "execution_count": 132,
   "metadata": {},
   "outputs": [
    {
     "name": "stdout",
     "output_type": "stream",
     "text": [
      "['Negative' 'Positive' 'Negative' 'Positive' 'Positive']\n",
      "['Negative' 'Positive' 'Negative' 'Positive' 'Positive']\n",
      "['Negative' 'Positive' 'Negative' 'Positive' 'Positive']\n"
     ]
    }
   ],
   "source": [
    "fake_test = [\"Worst ever\", \"love it\", \"terrible\", 'Great service', 'hate this place']\n",
    "round2 = vect.transform(fake_test)\n",
    "\n",
    "print(svm_.predict(round2))\n",
    "print(log_.predict(round2))\n",
    "print(multi_.predict(round2))"
   ]
  },
  {
   "cell_type": "markdown",
   "metadata": {},
   "source": [
    "### Why does the modeld think the last example is positive? Upon further inspection of the dataset, the word \"hate\" was not used exclusively as a negative. instead many positive reviews used the word. This and other oddities can be corrected with a larger training data set. The discrepency can be seen below"
   ]
  },
  {
   "cell_type": "code",
   "execution_count": 133,
   "metadata": {},
   "outputs": [
    {
     "name": "stdout",
     "output_type": "stream",
     "text": [
      "['Positive' 'Positive' 'Positive' 'Positive']\n",
      "['Positive' 'Positive' 'Positive' 'Positive']\n",
      "['Positive' 'Negative' 'Positive' 'Positive']\n"
     ]
    }
   ],
   "source": [
    "fake_test2 = [\"I HATE THIS\", \"HATE LIVING HERE\", \"HATED THIS PLACE\", 'HATED THE SERVICE']\n",
    "round3 = vect.transform(fake_test2)\n",
    "\n",
    "print(svm_.predict(round3))\n",
    "print(log_.predict(round3))\n",
    "print(multi_.predict(round3))"
   ]
  },
  {
   "cell_type": "markdown",
   "metadata": {},
   "source": [
    "## TFID Vectorizer"
   ]
  },
  {
   "cell_type": "markdown",
   "metadata": {},
   "source": [
    "### The earlier count vectorizer gives equal weight to all words appearing in a review. Therefore prepositions, articles, nouns and other non-descriptive words are given a much higher weight in determining the \"attitude\" of a review just because they occur more frequently in speech. For example, in the below, the words \"I\", \"this\" and \"place\" are given the same weight in the model as the words \"love\" and \"hate."
   ]
  },
  {
   "cell_type": "code",
   "execution_count": 43,
   "metadata": {},
   "outputs": [],
   "source": [
    "# 'I hate this place'\n",
    "# 'I love this place'\n",
    "\n",
    "# The words that actually matter ('love' & 'hate') should be given more weight than all the other words. \n",
    "# Therefore using a TFID vectorizer will correct this as instead of giving more weight to words that \n",
    "# occur more frequently, it will assign greater weight to words that occur more RARELY "
   ]
  },
  {
   "cell_type": "code",
   "execution_count": 143,
   "metadata": {},
   "outputs": [
    {
     "name": "stdout",
     "output_type": "stream",
     "text": [
      "[0.9574 0.7454]\n",
      "[0.9538 0.6965]\n",
      "[0.9149 0.    ]\n",
      "[0.9075 0.4938]\n"
     ]
    },
    {
     "name": "stderr",
     "output_type": "stream",
     "text": [
      "C:\\Users\\User\\Anaconda3\\lib\\site-packages\\sklearn\\metrics\\classification.py:1437: UndefinedMetricWarning: F-score is ill-defined and being set to 0.0 in labels with no predicted samples.\n",
      "  'precision', 'predicted', average, warn_for)\n"
     ]
    }
   ],
   "source": [
    "from sklearn.feature_extraction.text import TfidfVectorizer\n",
    "\n",
    "# Re-vectorizing with TFID\n",
    "vect2 = TfidfVectorizer()\n",
    "trained_vec2 = vect2.fit_transform(train[\"Review\"])\n",
    "\n",
    "test_vecs2 = vect2.transform(test[\"Review\"])\n",
    "\n",
    "# Re-modelling with new vectorizor\n",
    "svm_2 = svm.SVC(kernel = \"linear\")\n",
    "svm_2.fit(trained_vec2, train[\"Attitude\"])\n",
    "\n",
    "log_2 = LogisticRegression(solver='lbfgs')\n",
    "log_2.fit(trained_vec2, train[\"Attitude\"])\n",
    "\n",
    "multi_2 = MultinomialNB()\n",
    "multi_2.fit(trained_vec2, train[\"Attitude\"])\n",
    "\n",
    "dec_2 = DecisionTreeClassifier()\n",
    "dec_2.fit(trained_vec2, train[\"Attitude\"])\n",
    "\n",
    "# New F1 Scores\n",
    "f1_svm_2 = around(f1_score(test[\"Attitude\"], svm_2.predict(test_vecs2), average = None, \n",
    "                           labels = [\"Positive\", \"Negative\"]), 4)\n",
    "f1_log_2 = around(f1_score(test[\"Attitude\"], log_2.predict(test_vecs2), average = None, \n",
    "                           labels = [\"Positive\", \"Negative\"]), 4)\n",
    "f1_multi_2 = around(f1_score(test[\"Attitude\"], multi_2.predict(test_vecs2), average = None, \n",
    "                             labels = [\"Positive\", \"Negative\"]), 4)\n",
    "f1_dec_2 = around(f1_score(test[\"Attitude\"], dec_2.predict(test_vecs2), average = None, \n",
    "                           labels = [\"Positive\", \"Negative\"]), 4)\n",
    "\n",
    "print(f1_svm_2)\n",
    "print(f1_log_2)\n",
    "print(f1_multi_2)\n",
    "print(f1_dec_2)"
   ]
  },
  {
   "cell_type": "code",
   "execution_count": 144,
   "metadata": {},
   "outputs": [
    {
     "name": "stdout",
     "output_type": "stream",
     "text": [
      "0.927\n",
      "0.9199\n",
      "0.8431\n",
      "0.8436\n"
     ]
    }
   ],
   "source": [
    "# New mean performance scores\n",
    "svm_mean_score_2 = round(svm_2.score(test_vecs2, test[\"Attitude\"]), 4)\n",
    "log_mean_score_2 = round(log_2.score(test_vecs2, test[\"Attitude\"]), 4)\n",
    "multi_mean_score_2 = round(multi_2.score(test_vecs2, test[\"Attitude\"]), 4)\n",
    "dec_mean_score_2 = round(dec_2.score(test_vecs2, test[\"Attitude\"]), 4)\n",
    "\n",
    "print(svm_mean_score_2)\n",
    "print(log_mean_score_2)\n",
    "print(multi_mean_score_2)\n",
    "print(dec_mean_score_2)"
   ]
  },
  {
   "cell_type": "code",
   "execution_count": 145,
   "metadata": {},
   "outputs": [
    {
     "name": "stdout",
     "output_type": "stream",
     "text": [
      "svm performance difference from basic vectorizing to TFID:\n",
      "mean score  0.0141 \n",
      "f1 scores:  [0.0089 0.0282] \n",
      "\n",
      "logistic performance difference from basic vectorizing to TFID:\n",
      "mean score  -0.0004 \n",
      "f1 scores:  [ 0.0006 -0.0363] \n",
      "\n",
      "multi NB performance difference from basic vectorizing to TFID:\n",
      "mean score  -0.0765 \n",
      "f1 scores:  [-0.0388 -0.6937] \n",
      "\n",
      "decision tree NB performance difference from basic vectorizing to TFID:\n",
      "mean score  -0.0186 \n",
      "f1 scores:  [-0.0116 -0.0407]\n"
     ]
    }
   ],
   "source": [
    "print(\"svm performance difference from basic vectorizing to TFID:\\nmean score \"\n",
    "      , round((svm_mean_score_2 - svm_mean_score_1), 4),\"\\nf1 scores: \", around((f1_svm_2 - f1_svm_1), 4), \"\\n\")\n",
    "print(\"logistic performance difference from basic vectorizing to TFID:\\nmean score \"\n",
    "      , round((log_mean_score_2 - log_mean_score_1), 4),\"\\nf1 scores: \", around((f1_log_2 - f1_log_1), 4), \"\\n\")\n",
    "print(\"multi NB performance difference from basic vectorizing to TFID:\\nmean score \"\n",
    "      , round((multi_mean_score_2 - multi_mean_score_1), 4),\"\\nf1 scores: \", around((f1_multi_2 - f1_multi_1), 4), \"\\n\")\n",
    "print(\"decision tree NB performance difference from basic vectorizing to TFID:\\nmean score \"\n",
    "      , round((dec_mean_score_2 - dec_mean_score_1), 4),\"\\nf1 scores: \", around((f1_dec_2 - f1_dec_1), 4))"
   ]
  },
  {
   "cell_type": "markdown",
   "metadata": {},
   "source": [
    "## Paramater Tuning"
   ]
  },
  {
   "cell_type": "markdown",
   "metadata": {},
   "source": [
    "### it seems that the increase in accuracy was nominal for the SVM model, lowered slightly for the logistic regression and vastly degraded for the Multinomial Bayes. Lets try parameter tuning using GridSearch to see if we can get a more substantial increase! (We will drop the decision tree model as it is seeing poorer results)"
   ]
  },
  {
   "cell_type": "markdown",
   "metadata": {},
   "source": [
    "#### first for SVM (this takes a very long time!)"
   ]
  },
  {
   "cell_type": "code",
   "execution_count": 151,
   "metadata": {},
   "outputs": [
    {
     "data": {
      "text/plain": [
       "GridSearchCV(cv=3, error_score='raise-deprecating',\n",
       "             estimator=SVC(C=1.0, cache_size=200, class_weight=None, coef0=0.0,\n",
       "                           decision_function_shape='ovr', degree=3,\n",
       "                           gamma='auto_deprecated', kernel='rbf', max_iter=-1,\n",
       "                           probability=False, random_state=None, shrinking=True,\n",
       "                           tol=0.001, verbose=False),\n",
       "             iid='warn', n_jobs=None,\n",
       "             param_grid={'C': (1, 2, 4), 'gamma': ['scale'],\n",
       "                         'kernel': ('linear', 'poly', 'rbf')},\n",
       "             pre_dispatch='2*n_jobs', refit=True, return_train_score=False,\n",
       "             scoring=None, verbose=0)"
      ]
     },
     "execution_count": 151,
     "metadata": {},
     "output_type": "execute_result"
    }
   ],
   "source": [
    "from sklearn.model_selection import GridSearchCV\n",
    "\n",
    "test_params = {\"C\": (1, 2, 4), \"kernel\": (\"linear\", \"poly\", \"rbf\"), \"gamma\": [\"scale\"]}\n",
    "\n",
    "svc_3 = svm.SVC()\n",
    "svc_clf = GridSearchCV(svc_3, test_params, cv = 3)\n",
    "\n",
    "svc_clf.fit(trained_vec2, train[\"Attitude\"])"
   ]
  },
  {
   "cell_type": "code",
   "execution_count": 152,
   "metadata": {},
   "outputs": [],
   "source": [
    "svm_mean_score_3 = round(svc_clf.score(test_vecs2, test[\"Attitude\"]), 4)\n",
    "f1_svm_3 = around(f1_score(test[\"Attitude\"], svc_clf.predict(test_vecs2), average = None, \n",
    "                           labels = [\"Positive\", \"Negative\"]), 4)"
   ]
  },
  {
   "cell_type": "markdown",
   "metadata": {},
   "source": [
    "#### For logistic regression "
   ]
  },
  {
   "cell_type": "code",
   "execution_count": 147,
   "metadata": {},
   "outputs": [
    {
     "data": {
      "text/plain": [
       "GridSearchCV(cv=3, error_score='raise-deprecating',\n",
       "             estimator=LogisticRegression(C=1.0, class_weight=None, dual=False,\n",
       "                                          fit_intercept=True,\n",
       "                                          intercept_scaling=1, l1_ratio=None,\n",
       "                                          max_iter=100, multi_class='warn',\n",
       "                                          n_jobs=None, penalty='l2',\n",
       "                                          random_state=None, solver='lbfgs',\n",
       "                                          tol=0.0001, verbose=0,\n",
       "                                          warm_start=False),\n",
       "             iid='warn', n_jobs=None,\n",
       "             param_grid={'solver': ('newton-cg', 'lbfgs', 'liblinear', 'sag',\n",
       "                                    'saga')},\n",
       "             pre_dispatch='2*n_jobs', refit=True, return_train_score=False,\n",
       "             scoring=None, verbose=0)"
      ]
     },
     "execution_count": 147,
     "metadata": {},
     "output_type": "execute_result"
    }
   ],
   "source": [
    "test_params_log = {\"solver\":(\"newton-cg\", \"lbfgs\", \"liblinear\", \"sag\", \"saga\")}\n",
    "\n",
    "log_3 = LogisticRegression(solver='lbfgs')\n",
    "log_clf = GridSearchCV(log_3, test_params_log, cv = 3)\n",
    "\n",
    "log_clf.fit(trained_vec2, train[\"Attitude\"])"
   ]
  },
  {
   "cell_type": "code",
   "execution_count": 148,
   "metadata": {},
   "outputs": [],
   "source": [
    "log_mean_score_3 = round(log_clf.score(test_vecs2, test[\"Attitude\"]), 4)\n",
    "f1_log_3 = around(f1_score(test[\"Attitude\"], log_clf.predict(test_vecs2), average = None, \n",
    "                           labels = [\"Positive\", \"Negative\"]), 4)"
   ]
  },
  {
   "cell_type": "markdown",
   "metadata": {},
   "source": [
    "#### for Multinomial Naive Bayes"
   ]
  },
  {
   "cell_type": "code",
   "execution_count": 149,
   "metadata": {},
   "outputs": [
    {
     "data": {
      "text/plain": [
       "GridSearchCV(cv=3, error_score='raise-deprecating',\n",
       "             estimator=MultinomialNB(alpha=1.0, class_prior=None,\n",
       "                                     fit_prior=True),\n",
       "             iid='warn', n_jobs=None, param_grid={'alpha': (0.5, 1.0, 2.0)},\n",
       "             pre_dispatch='2*n_jobs', refit=True, return_train_score=False,\n",
       "             scoring=None, verbose=0)"
      ]
     },
     "execution_count": 149,
     "metadata": {},
     "output_type": "execute_result"
    }
   ],
   "source": [
    "test_params_multi = {\"alpha\": (0.5, 1.0, 2.0)}\n",
    "\n",
    "multi3 = MultinomialNB()\n",
    "multi_clf = GridSearchCV(multi3, test_params_multi, cv = 3)\n",
    "\n",
    "multi_clf.fit(trained_vec2, train[\"Attitude\"])"
   ]
  },
  {
   "cell_type": "code",
   "execution_count": 150,
   "metadata": {},
   "outputs": [],
   "source": [
    "multi_mean_score_3 = round(multi_clf.score(test_vecs2, test[\"Attitude\"]), 4)\n",
    "f1_multi_3 = around(f1_score(test[\"Attitude\"], multi_clf.predict(test_vecs2), average = None, \n",
    "                           labels = [\"Positive\", \"Negative\"]), 4)"
   ]
  },
  {
   "cell_type": "markdown",
   "metadata": {},
   "source": [
    "#### As we can see below there has been very little model improvement after parameter tuning. Only the multinomial naive bayes had any change"
   ]
  },
  {
   "cell_type": "code",
   "execution_count": 153,
   "metadata": {},
   "outputs": [
    {
     "name": "stdout",
     "output_type": "stream",
     "text": [
      "svm performance difference from base TFID models to paramater tuned models:\n",
      "mean score  0.0 \n",
      "f1 scores:  [0. 0.] \n",
      "\n",
      "logistic performance difference from base TFID models to paramater tuned models:\n",
      "mean score  0.0 \n",
      "f1 scores:  [0. 0.] \n",
      "\n",
      "multi performance difference from base TFID models to paramater tuned models:\n",
      "mean score  0.0011 \n",
      "f1 scores:  [0.0005 0.0131] \n",
      "\n"
     ]
    }
   ],
   "source": [
    "print(\"svm performance difference from base TFID models to paramater tuned models:\\nmean score \"\n",
    "      , round((svm_mean_score_3 - svm_mean_score_2), 4),\"\\nf1 scores: \", around((f1_svm_3 - f1_svm_2), 4), \"\\n\")\n",
    "print(\"logistic performance difference from base TFID models to paramater tuned models:\\nmean score \"\n",
    "      , round((log_mean_score_3 - log_mean_score_2), 4),\"\\nf1 scores: \", around((f1_log_3 - f1_log_2), 4), \"\\n\")\n",
    "print(\"multi performance difference from base TFID models to paramater tuned models:\\nmean score \"\n",
    "      , round((multi_mean_score_3 - multi_mean_score_2), 4),\"\\nf1 scores: \", around((f1_multi_3 - f1_multi_2), 4), \"\\n\")"
   ]
  },
  {
   "cell_type": "markdown",
   "metadata": {},
   "source": [
    "#### the SVM model below has produced the most accurate model and so is our final selection"
   ]
  },
  {
   "cell_type": "code",
   "execution_count": 154,
   "metadata": {},
   "outputs": [
    {
     "name": "stdout",
     "output_type": "stream",
     "text": [
      "final svm performance for TFID models post paramater tuning:\n",
      "mean score  0.927 \n",
      "f1 scores:  [0.9574 0.7454] \n",
      "\n",
      "final logistic performance for TFID models post paramater tuning:\n",
      "mean score  0.9199 \n",
      "f1 scores:  [0.9538 0.6965] \n",
      "\n",
      "final multinomial naive bayesp performance for TFID models post paramater tuning:\n",
      "mean score  0.8442 \n",
      "f1 scores:  [0.9154 0.0131] \n",
      "\n"
     ]
    }
   ],
   "source": [
    "print(\"final svm performance for TFID models post paramater tuning:\\nmean score \"\n",
    "      , round((svm_mean_score_3), 4),\"\\nf1 scores: \", around((f1_svm_3), 4), \"\\n\")\n",
    "print(\"final logistic performance for TFID models post paramater tuning:\\nmean score \"\n",
    "      , round((log_mean_score_3), 4),\"\\nf1 scores: \", around((f1_log_3), 4), \"\\n\")\n",
    "print(\"final multinomial naive bayesp performance for TFID models post paramater tuning:\\nmean score \"\n",
    "      , round((multi_mean_score_3), 4),\"\\nf1 scores: \", around((f1_multi_3), 4), \"\\n\")"
   ]
  },
  {
   "cell_type": "markdown",
   "metadata": {},
   "source": [
    "## Pickling the model"
   ]
  },
  {
   "cell_type": "code",
   "execution_count": 155,
   "metadata": {},
   "outputs": [],
   "source": [
    "import pickle\n",
    "\n",
    "# Change to local path to desired folder\n",
    "with open('C://Users//User//Documents//Python Scripts//Data//SVM_review_classifer.pkl', 'wb') as file:\n",
    "    pickle.dump(svc_clf, file)\n",
    "    \n",
    "with open('C://Users//User//Documents//Python Scripts//Data//SVM_review_classifer.pkl', 'rb') as file2:\n",
    "    load_svm = pickle.load(file2)"
   ]
  },
  {
   "cell_type": "code",
   "execution_count": 175,
   "metadata": {},
   "outputs": [
    {
     "name": "stdout",
     "output_type": "stream",
     "text": [
      "nicer read husband stayed water beach hotel sunday june 15 thursday june 19th 6th wedding anniversary sunday thursday key stay week no weekends want experience nice hotel noise rooftop bar guest complained really enjoyed rooms little cramped nice clean staff nice pleasant door man beach valet nice men extremely helpfulthe nicest experience hotel rooftop pool lounge area perfect romantic way relax able enjoy drinks food hotel pretty costly thing somewhat unpleased  \n",
      "\n",
      "Review gave score of  4 \n",
      "\n",
      "prediction is: Positive\n"
     ]
    }
   ],
   "source": [
    "print(test.iloc[0,0])\n",
    "print(\"\\nReview gave score of \", test.iloc[0,1],\"\\n\")\n",
    "print(\"prediction is:\", load_svm.predict(test_vecs2[0])[0])"
   ]
  },
  {
   "cell_type": "markdown",
   "metadata": {},
   "source": [
    "## A Confusion Matrix to show accuracy"
   ]
  },
  {
   "cell_type": "code",
   "execution_count": 179,
   "metadata": {},
   "outputs": [
    {
     "data": {
      "image/png": "[encoded data removed]",
      "text/plain": [
       "<Figure size 432x288 with 2 Axes>"
      ]
     },
     "metadata": {
      "needs_background": "light"
     },
     "output_type": "display_data"
    }
   ],
   "source": [
    "import seaborn as sn\n",
    "from sklearn.metrics import confusion_matrix\n",
    "import matplotlib.pyplot as plt\n",
    "\n",
    "preds = load_svm.predict(test_vecs2)\n",
    "\n",
    "labels = [\"Positive\", \"Negative\"]\n",
    "matrix = confusion_matrix(test[\"Attitude\"], preds, labels = labels)\n",
    "matrix_df = pd.DataFrame(matrix, index = labels, columns = labels)\n",
    "\n",
    "sn.heatmap(matrix_df, annot = True, fmt = \"d\")\n",
    "\n",
    "plt.show()"
   ]
  },
  {
   "cell_type": "markdown",
   "metadata": {},
   "source": [
    "### To get better accuracy, need a dataset with more negative reviews to test the data on. Here, negative reviews accounted for only 16% of the dataset causing our models to skew towards predicting \"Positive\" outcomes "
   ]
  },
  {
   "cell_type": "code",
   "execution_count": null,
   "metadata": {},
   "outputs": [],
   "source": []
  }
 ],
 "metadata": {
  "kernelspec": {
   "display_name": "Python 3",
   "language": "python",
   "name": "python3"
  },
  "language_info": {
   "codemirror_mode": {
    "name": "ipython",
    "version": 3
   },
   "file_extension": ".py",
   "mimetype": "text/x-python",
   "name": "python",
   "nbconvert_exporter": "python",
   "pygments_lexer": "ipython3",
   "version": "3.7.3"
  }
 },
 "nbformat": 4,
 "nbformat_minor": 2
}
